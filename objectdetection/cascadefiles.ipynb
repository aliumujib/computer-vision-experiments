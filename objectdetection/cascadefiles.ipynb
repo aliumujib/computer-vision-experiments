{
 "cells": [
  {
   "cell_type": "code",
   "execution_count": null,
   "metadata": {},
   "outputs": [],
   "source": [
    "Face Detector"
   ]
  },
  {
   "cell_type": "code",
   "execution_count": 1,
   "metadata": {
    "scrolled": true
   },
   "outputs": [
    {
     "name": "stdout",
     "output_type": "stream",
     "text": [
      "(163, 163)\n",
      "No eyes were found\n",
      "(158, 158)\n",
      "(203, 203)\n",
      "(176, 176)\n",
      "(161, 161)\n"
     ]
    }
   ],
   "source": [
    "import cv2\n",
    "import numpy\n",
    "\n",
    "\n",
    "face_classifier = cv2.CascadeClassifier(\"cascade_files/haarcascade_frontalface_default.xml\")\n",
    "eye_classifier = cv2.CascadeClassifier(\"cascade_files/haarcascade_eye.xml\")\n",
    "\n",
    "image = cv2.imread(\"860_main_beauty.png\")\n",
    "gray = cv2.cvtColor(image, cv2.COLOR_BGR2GRAY)\n",
    "\n",
    "cv2.imshow(\"Original image\", image)\n",
    "cv2.waitKey(0)\n",
    "\n",
    "faces = face_classifier.detectMultiScale(gray, 1.3, 5)\n",
    "\n",
    "if faces is ():\n",
    "    print(\"No faces were found\")\n",
    "    \n",
    "\n",
    "for (index, (x, y, w, h)) in enumerate(faces):\n",
    "    face = gray[y:y+h, x:x+w]\n",
    "    print(face.shape)\n",
    "    cv2.waitKey(0)\n",
    "    eyes = eye_classifier.detectMultiScale(face, 1.3, 5)\n",
    "    \n",
    "    if eyes is ():\n",
    "        print(\"No eyes were found\")\n",
    "        cv2.rectangle(face, (x,y), (x+w,y+h), (0,123, 255), 2)\n",
    "        cv2.imshow(\"Face {} detection\".format(index), face)\n",
    "        cv2.waitKey(0)\n",
    "    \n",
    "    for(x1,y1,w1,h1) in eyes:\n",
    "        cv2.rectangle(face, (x1,y1), (x1+w1,y1+h1), (0,244, 255), 2)\n",
    "        cv2.imshow(\"Face {} detection\".format(index), face)\n",
    "        cv2.waitKey(0)\n",
    "    \n",
    "cv2.destroyAllWindows()\n",
    "\n",
    "\n",
    "    "
   ]
  },
  {
   "cell_type": "code",
   "execution_count": null,
   "metadata": {},
   "outputs": [],
   "source": [
    "Live Feed Face Detector"
   ]
  },
  {
   "cell_type": "code",
   "execution_count": null,
   "metadata": {},
   "outputs": [
    {
     "name": "stdout",
     "output_type": "stream",
     "text": [
      "No eyes were found\n",
      "No eyes were found\n",
      "No eyes were found\n",
      "No eyes were found\n",
      "No eyes were found\n",
      "No eyes were found\n",
      "No eyes were found\n",
      "No eyes were found\n",
      "No eyes were found\n",
      "No eyes were found\n",
      "No eyes were found\n",
      "No eyes were found\n",
      "No eyes were found\n",
      "No eyes were found\n",
      "No eyes were found\n",
      "No eyes were found\n",
      "No eyes were found\n",
      "No eyes were found\n",
      "No faces were found\n",
      "No faces were found\n",
      "No eyes were found\n",
      "No eyes were found\n",
      "No faces were found\n",
      "No faces were found\n",
      "No faces were found\n",
      "No faces were found\n",
      "No faces were found\n",
      "No faces were found\n",
      "No faces were found\n",
      "No faces were found\n",
      "No faces were found\n",
      "No faces were found\n",
      "No faces were found\n",
      "No faces were found\n",
      "No faces were found\n",
      "No faces were found\n",
      "No faces were found\n",
      "No faces were found\n",
      "No faces were found\n",
      "No faces were found\n",
      "No faces were found\n",
      "No faces were found\n",
      "No faces were found\n",
      "No faces were found\n",
      "No faces were found\n",
      "No faces were found\n",
      "No faces were found\n",
      "No faces were found\n",
      "No faces were found\n",
      "No faces were found\n",
      "No faces were found\n",
      "No faces were found\n",
      "No faces were found\n",
      "No faces were found\n",
      "No faces were found\n",
      "No faces were found\n",
      "No faces were found\n"
     ]
    }
   ],
   "source": [
    "import cv2\n",
    "import numpy\n",
    "\n",
    "def detect_faces(image):\n",
    "    face_classifier = cv2.CascadeClassifier(\"cascade_files/haarcascade_frontalface_default.xml\")\n",
    "    eye_classifier = cv2.CascadeClassifier(\"cascade_files/haarcascade_eye.xml\")\n",
    "\n",
    "    #image = cv2.imread(\"860_main_beauty.png\")\n",
    "    gray = cv2.cvtColor(image, cv2.COLOR_BGR2GRAY)\n",
    "\n",
    "    cv2.imshow(\"Original image\", image)\n",
    "\n",
    "    faces = face_classifier.detectMultiScale(gray, 1.3, 5)\n",
    "\n",
    "    if faces is ():\n",
    "        print(\"No faces were found\")\n",
    "\n",
    "\n",
    "    for (index, (x, y, w, h)) in enumerate(faces):\n",
    "        eyes = eye_classifier.detectMultiScale(image, 1.3, 5)\n",
    "\n",
    "        if eyes is ():\n",
    "            print(\"No eyes were found\")\n",
    "            cv2.rectangle(image, (x,y), (x+w,y+h), (0,123, 255), 2)\n",
    "            cv2.imshow(\"Face {} detection\".format(index), image)\n",
    "\n",
    "        for(x1,y1,w1,h1) in eyes:\n",
    "            cv2.rectangle(image, (x1,y1), (x1+w1,y1+h1), (0,244, 255), 2)\n",
    "            cv2.imshow(\"Face {} detection\".format(index), image)\n",
    "           \n",
    "    return image\n",
    "        \n",
    "\n",
    "\n",
    "capture = cv2.VideoCapture(0)\n",
    "    \n",
    "while True:\n",
    "    ret, frame = capture.read()\n",
    "    cv2.imshow(\"Live Face detect\", detect_faces(frame))\n",
    "    if cv2.waitKey(1) == 13:\n",
    "        break;\n",
    "    \n",
    "cv2.waitKey(0)\n",
    "cv2.destroyAllWindows()\n"
   ]
  },
  {
   "cell_type": "code",
   "execution_count": null,
   "metadata": {},
   "outputs": [],
   "source": []
  }
 ],
 "metadata": {
  "kernelspec": {
   "display_name": "Python 3",
   "language": "python",
   "name": "python3"
  },
  "language_info": {
   "codemirror_mode": {
    "name": "ipython",
    "version": 3
   },
   "file_extension": ".py",
   "mimetype": "text/x-python",
   "name": "python",
   "nbconvert_exporter": "python",
   "pygments_lexer": "ipython3",
   "version": "3.7.4"
  }
 },
 "nbformat": 4,
 "nbformat_minor": 2
}
