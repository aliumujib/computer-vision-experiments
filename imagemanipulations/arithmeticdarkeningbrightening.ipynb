{
 "cells": [
  {
   "cell_type": "code",
   "execution_count": null,
   "metadata": {},
   "outputs": [],
   "source": [
    "import cv2\n",
    "import numpy as np\n",
    "\n",
    "image = cv2.imread(\"ALIU_ABDULMUJEEB_OLOLADE.jpg\")\n",
    "\n",
    "M = np.ones(image.shape, dtype=\"uint8\") * 75\n",
    "\n",
    "\n",
    "brighter = np.add(image, M)\n",
    "cv2.imshow(\"Brighter\", brighter)\n",
    "cv2.waitKey(0)\n",
    "\n",
    "\n",
    "darker = np.subtract(image, M)\n",
    "cv2.imshow(\"Darker\", darker)\n",
    "cv2.waitKey(0)\n",
    "\n",
    "cv2.destroyAllWindows()"
   ]
  },
  {
   "cell_type": "code",
   "execution_count": null,
   "metadata": {},
   "outputs": [],
   "source": []
  }
 ],
 "metadata": {
  "kernelspec": {
   "display_name": "Python 3",
   "language": "python",
   "name": "python3"
  },
  "language_info": {
   "codemirror_mode": {
    "name": "ipython",
    "version": 3
   },
   "file_extension": ".py",
   "mimetype": "text/x-python",
   "name": "python",
   "nbconvert_exporter": "python",
   "pygments_lexer": "ipython3",
   "version": "3.7.4"
  }
 },
 "nbformat": 4,
 "nbformat_minor": 2
}
