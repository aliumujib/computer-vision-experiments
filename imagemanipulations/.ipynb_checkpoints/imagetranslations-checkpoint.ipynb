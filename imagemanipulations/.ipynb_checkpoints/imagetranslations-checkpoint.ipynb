{
 "cells": [
  {
   "cell_type": "code",
   "execution_count": null,
   "metadata": {},
   "outputs": [],
   "source": [
    "Very simple, can be done using cv2.warpAffine"
   ]
  },
  {
   "cell_type": "code",
   "execution_count": null,
   "metadata": {},
   "outputs": [],
   "source": [
    "import cv2\n",
    "import numpy as np\n",
    "\n",
    "image = cv2.imread(\"ALIU_ABDULMUJEEB_OLOLADE.jpg\")\n",
    "\n",
    "height, width = image.shape[:2]\n",
    "\n",
    "half_width, half_height = width/2 , height/2\n",
    "\n",
    "#     |1, 0 ,Tx| the direction to move in on the x axis, the amount of space to move on the x axis\n",
    "# T = |0, 1, Ty| the direction to move in on they axis, the amount of space to move on the y axis\n",
    "\n",
    "translation_matrix = np.float32([[1,0, half_width], [0,1, half_height]])\n",
    "\n",
    "translated_image  = cv2.warpAffine(image, translation_matrix, (width, height))\n",
    "cv2.imwrite(\"ALIU_ABDULMUJEEB_OLOLADE_warpAffine.jpg\", translated_image)\n",
    "\n",
    "cv2.imshow(\"Warp Affine Image\",translated_image)\n",
    "cv2.waitKey(0)\n",
    "cv2.destroyAllWindows()"
   ]
  },
  {
   "cell_type": "code",
   "execution_count": null,
   "metadata": {},
   "outputs": [],
   "source": []
  }
 ],
 "metadata": {
  "kernelspec": {
   "display_name": "Python 3",
   "language": "python",
   "name": "python3"
  },
  "language_info": {
   "codemirror_mode": {
    "name": "ipython",
    "version": 3
   },
   "file_extension": ".py",
   "mimetype": "text/x-python",
   "name": "python",
   "nbconvert_exporter": "python",
   "pygments_lexer": "ipython3",
   "version": "3.7.4"
  }
 },
 "nbformat": 4,
 "nbformat_minor": 2
}
