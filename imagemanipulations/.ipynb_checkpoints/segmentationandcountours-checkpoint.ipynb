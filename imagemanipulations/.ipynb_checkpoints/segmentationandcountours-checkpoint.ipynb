{
 "cells": [
  {
   "cell_type": "code",
   "execution_count": null,
   "metadata": {},
   "outputs": [],
   "source": []
  },
  {
   "cell_type": "code",
   "execution_count": null,
   "metadata": {},
   "outputs": [],
   "source": []
  },
  {
   "cell_type": "code",
   "execution_count": null,
   "metadata": {},
   "outputs": [],
   "source": []
  },
  {
   "cell_type": "code",
   "execution_count": 1,
   "metadata": {},
   "outputs": [
    {
     "name": "stdout",
     "output_type": "stream",
     "text": [
      "Found 1 contours\n"
     ]
    }
   ],
   "source": [
    "import cv2\n",
    "import numpy as np\n",
    "\n",
    "image = cv2.imread(\"eyowo.jpg\")\n",
    "cv2.imshow(\"Input Image\", image)\n",
    "cv2.waitKey(0)\n",
    "\n",
    "#convert to grayscale\n",
    "gray_image = cv2.cvtColor(image, cv2.COLOR_BGR2GRAY)\n",
    "\n",
    "\n",
    "#find canny edges, helps reduce noise\n",
    "canny_edge = cv2.Canny(gray_image, 30,200)\n",
    "cv2.imshow(\"Canny Image\", canny_edge)\n",
    "cv2.waitKey(0)\n",
    "\n",
    "#find contours \n",
    "contours, heirachy = cv2.findContours(canny_edge, cv2.RETR_TREE, cv2.CHAIN_APPROX_NONE)\n",
    "cv2.imshow(\"Countours Only\",canny_edge)\n",
    "cv2.waitKey(0)\n",
    "print(f\"Found {len(contours)} contours\")\n",
    "\n",
    "cv2.drawContours(image, contours, -1, (0, 255,0), 3)\n",
    "cv2.imshow(\"Countered Image\", image)\n",
    "cv2.waitKey(0)\n",
    "\n",
    "cv2.destroyAllWindows()"
   ]
  },
  {
   "cell_type": "code",
   "execution_count": null,
   "metadata": {},
   "outputs": [],
   "source": []
  },
  {
   "cell_type": "code",
   "execution_count": null,
   "metadata": {},
   "outputs": [],
   "source": []
  }
 ],
 "metadata": {
  "kernelspec": {
   "display_name": "Python 3",
   "language": "python",
   "name": "python3"
  },
  "language_info": {
   "codemirror_mode": {
    "name": "ipython",
    "version": 3
   },
   "file_extension": ".py",
   "mimetype": "text/x-python",
   "name": "python",
   "nbconvert_exporter": "python",
   "pygments_lexer": "ipython3",
   "version": "3.7.4"
  }
 },
 "nbformat": 4,
 "nbformat_minor": 2
}
