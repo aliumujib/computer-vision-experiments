{
 "cells": [
  {
   "cell_type": "code",
   "execution_count": null,
   "metadata": {},
   "outputs": [],
   "source": [
    "import cv2\n",
    "import numpy as np\n",
    "\n",
    "image = cv2.imread(\"ALIU_ABDULMUJEEB_OLOLADE.jpg\")\n",
    "cv2.imshow(\"Original Image\", image)\n",
    "\n",
    "kernel_matrix_3x3= np.ones((3,3), np.float32) / 9 #normalize the matrix so it all adds up to one\n",
    "blurred = cv2.filter2D(image, -1, kernel_matrix_3x3) # -1 here is ddepth https://stackoverflow.com/questions/43392956/explanation-for-ddepth-parameter-in-cv2-filter2d-opencv\n",
    "cv2.imshow(\"Blurred 3x3\", blurred)\n",
    "\n",
    "kernel_matrix_7x7= np.ones((7,7), np.float32) / 49 \n",
    "deeper_blurred = cv2.filter2D(image, -1,kernel_matrix_7x7)\n",
    "cv2.imshow(\"Blurred 7x7\", deeper_blurred)\n",
    "cv2.waitKey(0)\n",
    "\n",
    "cv2.destroyAllWindows()"
   ]
  },
  {
   "cell_type": "code",
   "execution_count": 1,
   "metadata": {},
   "outputs": [],
   "source": [
    "Other bluring functions"
   ]
  },
  {
   "cell_type": "code",
   "execution_count": null,
   "metadata": {},
   "outputs": [],
   "source": [
    "import cv2\n",
    "import numpy as np\n",
    "\n",
    "image = cv2.imread(\"ALIU_ABDULMUJEEB_OLOLADE.jpg\")\n",
    "cv2.imshow(\"Original Image\", image)\n",
    "\n",
    "average_blur = cv2.blur(image, (3,3))\n",
    "cv2.imshow(\"Average Image\", average_blur)\n",
    "\n",
    "guassian_blur = cv2.GaussianBlur(image, (3,3), 0)\n",
    "cv2.imshow(\"Gaussian Image\", guassian_blur)\n",
    "\n",
    "medium_blur = cv2.medianBlur(image, 5)\n",
    "cv2.imshow(\"Median Blurring\", medium_blur)\n",
    "\n",
    "bilateral_filter = cv2.bilateralFilter(image, 9, 74,74)\n",
    "cv2.imshow(\"Bilateral Filter\", bilateral_filter)\n",
    "\n",
    "cv2.waitKey(0)\n",
    "cv2.destroyAllWindows()"
   ]
  },
  {
   "cell_type": "code",
   "execution_count": null,
   "metadata": {},
   "outputs": [],
   "source": []
  }
 ],
 "metadata": {
  "kernelspec": {
   "display_name": "Python 3",
   "language": "python",
   "name": "python3"
  },
  "language_info": {
   "codemirror_mode": {
    "name": "ipython",
    "version": 3
   },
   "file_extension": ".py",
   "mimetype": "text/x-python",
   "name": "python",
   "nbconvert_exporter": "python",
   "pygments_lexer": "ipython3",
   "version": "3.7.4"
  }
 },
 "nbformat": 4,
 "nbformat_minor": 2
}
