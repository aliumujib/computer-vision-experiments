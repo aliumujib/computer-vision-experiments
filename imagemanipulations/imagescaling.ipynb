{
 "cells": [
  {
   "cell_type": "code",
   "execution_count": null,
   "metadata": {},
   "outputs": [],
   "source": [
    "import cv2\n",
    "import numpy as np\n",
    "\n",
    "image = cv2.imread(\"ALIU_ABDULMUJEEB_OLOLADE.jpg\")\n",
    "\n",
    "image_linear_scaled = cv2.resize(image, None, fx = 0.75, fy = 0.75)\n",
    "cv2.imshow(\"Linear Image Scaled\",image_linear_scaled)\n",
    "cv2.waitKey(0)\n",
    "\n",
    "image_scaled_scaled = cv2.resize(image, None, fx = 2, fy = 2, interpolation = cv2.INTER_CUBIC)\n",
    "cv2.imshow(\"Cubic Image Scaled\",image_scaled_scaled)\n",
    "cv2.waitKey(0)\n",
    "\n",
    "image_scaled_scaled = cv2.resize(image, None, fx = 2, fy = 2, interpolation = cv2.INTER_LANCZOS4)\n",
    "cv2.imshow(\"LANCZOS4 Image Scaled\",image_scaled_scaled)\n",
    "cv2.waitKey(0)\n",
    "\n",
    "image_scaled_scaled = cv2.resize(image, (900, 400), interpolation = cv2.INTER_AREA)\n",
    "cv2.imshow(\"Inter Area Image Scaled\",image_scaled_scaled)\n",
    "cv2.waitKey(0)\n",
    "\n",
    "cv.destroyAllWindows()"
   ]
  },
  {
   "cell_type": "code",
   "execution_count": null,
   "metadata": {},
   "outputs": [],
   "source": []
  }
 ],
 "metadata": {
  "kernelspec": {
   "display_name": "Python 3",
   "language": "python",
   "name": "python3"
  },
  "language_info": {
   "codemirror_mode": {
    "name": "ipython",
    "version": 3
   },
   "file_extension": ".py",
   "mimetype": "text/x-python",
   "name": "python",
   "nbconvert_exporter": "python",
   "pygments_lexer": "ipython3",
   "version": "3.7.4"
  }
 },
 "nbformat": 4,
 "nbformat_minor": 2
}
