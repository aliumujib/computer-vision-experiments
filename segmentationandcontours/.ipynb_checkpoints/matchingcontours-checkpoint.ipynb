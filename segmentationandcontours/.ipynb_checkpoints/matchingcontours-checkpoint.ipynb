{
 "cells": [
  {
   "cell_type": "code",
   "execution_count": null,
   "metadata": {},
   "outputs": [],
   "source": [
    "import cv2\n",
    "import numpy as np\n",
    "\n",
    "\n",
    "image = cv2.imread(\"mat__shapes__web.png\")\n",
    "template = cv2.imread(\"yellow_triangle.png\")\n",
    "\n",
    "orignal_image = image.copy()\n",
    "cv2.imshow(\"Target image\", image)\n",
    "cv2.imshow(\"Template image\", template)\n",
    "cv2.waitKey(0)\n",
    "\n",
    "gray_target = cv2.cvtColor(image, cv2.COLOR_BGR2GRAY)\n",
    "canny_edges_target = cv2.Canny(gray,30,200)\n",
    "\n",
    "gray_template = cv2.cvtColor(template, cv2.COLOR_BGR2GRAY)\n",
    "canny_edges_template = cv2.Canny(gray_template,30,200)\n",
    "\n",
    "target_contours, target_heirachy = cv2.findContours(canny_edges_template.copy(), cv2.RETR_EXTERNAL, cv2.CHAIN_APPROX_NONE)\n",
    "template_contours, template_heirachy = cv2.findContours(canny_edges_template.copy(), cv2.RETR_EXTERNAL, cv2.CHAIN_APPROX_NONE)\n",
    "\n",
    "print(\"Found {} contours in target\".format(len(contours)))\n",
    "\n",
    "\n"
   ]
  }
 ],
 "metadata": {
  "kernelspec": {
   "display_name": "Python 3",
   "language": "python",
   "name": "python3"
  },
  "language_info": {
   "codemirror_mode": {
    "name": "ipython",
    "version": 3
   },
   "file_extension": ".py",
   "mimetype": "text/x-python",
   "name": "python",
   "nbconvert_exporter": "python",
   "pygments_lexer": "ipython3",
   "version": "3.7.4"
  }
 },
 "nbformat": 4,
 "nbformat_minor": 2
}
