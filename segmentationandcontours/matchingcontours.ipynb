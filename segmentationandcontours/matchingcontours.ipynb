{
 "cells": [
  {
   "cell_type": "code",
   "execution_count": 1,
   "metadata": {},
   "outputs": [
    {
     "name": "stdout",
     "output_type": "stream",
     "text": [
      "Found 120 contours in target\n",
      "Found 1 contours in template\n",
      "Good match: 0.016716420870894755\n",
      "Good match: 0.012402263225068488\n",
      "ACCEPTED_MATCHES: 2\n"
     ]
    }
   ],
   "source": [
    "import cv2\n",
    "import numpy as np\n",
    "\n",
    "\n",
    "image = cv2.imread(\"mat__shapes__web.png\")\n",
    "template = cv2.imread(\"yellow_triangle.png\")\n",
    "template= cv2.pyrDown(template)\n",
    "\n",
    "orignal_image = image.copy()\n",
    "cv2.imshow(\"Target image\", image)\n",
    "cv2.imshow(\"Template image\", template)\n",
    "cv2.waitKey(0)\n",
    "\n",
    "gray_target = cv2.cvtColor(image, cv2.COLOR_BGR2GRAY)\n",
    "canny_edges_target = cv2.Canny(gray_target,30,200)\n",
    "\n",
    "gray_template = cv2.cvtColor(template, cv2.COLOR_BGR2GRAY)\n",
    "canny_edges_template = cv2.Canny(gray_template,30,200)\n",
    "\n",
    "target_contours, target_heirachy = cv2.findContours(canny_edges_target.copy(), cv2.RETR_EXTERNAL, cv2.CHAIN_APPROX_NONE)\n",
    "template_contours, template_heirachy = cv2.findContours(canny_edges_template.copy(), cv2.RETR_EXTERNAL, cv2.CHAIN_APPROX_NONE)\n",
    "\n",
    "print(\"Found {} contours in target\".format(len(target_contours)))\n",
    "print(\"Found {} contours in template\".format(len(template_contours)))\n",
    "\n",
    "sorted_template = sorted(template_contours, key= cv2.contourArea, reverse=True) #reverses order so its from the largest to the smallest\n",
    "template_matcher_contour = sorted_template[0] #gets the single largest contour\n",
    "\n",
    "accepted_matches = []\n",
    "\n",
    "for ctr in target_contours:\n",
    "    match = cv2.matchShapes(template_matcher_contour, ctr, 1,0.0)\n",
    "    if match < 0.05 and match > 0.01: #minimum threshold for a valid match\n",
    "        accepted_matches.append(ctr)\n",
    "        print(\"Good match: {}\".format(match))\n",
    "        \n",
    "print(\"ACCEPTED_MATCHES: {}\".format(len(accepted_matches)))    \n",
    "cv2.drawContours(orignal_image, accepted_matches, -1, (0,255,0), 2)\n",
    "cv2.imshow(\"Matched shapes image\", orignal_image)\n",
    "cv2.waitKey(0)\n",
    "cv2.destroyAllWindows()\n"
   ]
  },
  {
   "cell_type": "code",
   "execution_count": null,
   "metadata": {},
   "outputs": [],
   "source": []
  }
 ],
 "metadata": {
  "kernelspec": {
   "display_name": "Python 3",
   "language": "python",
   "name": "python3"
  },
  "language_info": {
   "codemirror_mode": {
    "name": "ipython",
    "version": 3
   },
   "file_extension": ".py",
   "mimetype": "text/x-python",
   "name": "python",
   "nbconvert_exporter": "python",
   "pygments_lexer": "ipython3",
   "version": "3.7.4"
  }
 },
 "nbformat": 4,
 "nbformat_minor": 2
}
