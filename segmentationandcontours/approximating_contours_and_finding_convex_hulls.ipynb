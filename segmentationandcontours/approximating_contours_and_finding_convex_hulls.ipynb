{
 "cells": [
  {
   "cell_type": "code",
   "execution_count": null,
   "metadata": {},
   "outputs": [
    {
     "name": "stdout",
     "output_type": "stream",
     "text": [
      "Found 5 contours\n"
     ]
    }
   ],
   "source": [
    "import cv2\n",
    "import numpy as np\n",
    "\n",
    "\n",
    "image = cv2.imread(\"cottage.png\")\n",
    "orignal_image = image.copy()\n",
    "cv2.imshow(\"Orignal image\", image)\n",
    "cv2.waitKey(0)\n",
    "\n",
    "gray = cv2.cvtColor(image, cv2.COLOR_BGR2GRAY)\n",
    "\n",
    "canny_edges = cv2.Canny(gray,30,200)\n",
    "\n",
    "contours, heirachy = cv2.findContours(canny_edges.copy(), cv2.RETR_EXTERNAL, cv2.CHAIN_APPROX_NONE)\n",
    "\n",
    "print(\"Found {} contours\".format(len(contours)))\n",
    "\n",
    "#draw apporoximated bounding rects\n",
    "for ctr in contours:\n",
    "    accuracy = 0.01 * cv2.arcLength(ctr, True) #Accuracy of the approximation, finer is better, general rule of thumb is to use 0.3* of area\n",
    "    approximation = cv2.approxPolyDP(ctr, accuracy, True)\n",
    "    (x,y,w,h) = cv2.boundingRect(ctr)\n",
    "    cv2.drawContours(orignal_image, [approximation], 0, (0, 255, 0), 2)\n",
    "    cv2.imshow(\"Countours\",orignal_image)\n",
    "    cv2.waitKey(0)\n",
    "    \n",
    "cv2.waitKey(0)\n",
    "cv2.destroyAllWindows()"
   ]
  },
  {
   "cell_type": "code",
   "execution_count": null,
   "metadata": {},
   "outputs": [],
   "source": [
    "Finding Convex Hull (Smallest Polygon that can fit around the object)"
   ]
  },
  {
   "cell_type": "code",
   "execution_count": 1,
   "metadata": {},
   "outputs": [
    {
     "name": "stdout",
     "output_type": "stream",
     "text": [
      "Found 1 contours\n"
     ]
    }
   ],
   "source": [
    "import cv2\n",
    "import numpy as np\n",
    "\n",
    "\n",
    "image = cv2.imread(\"hand.jpg\")\n",
    "orignal_image = image.copy()\n",
    "cv2.imshow(\"Orignal image\", image)\n",
    "cv2.waitKey(0)\n",
    "\n",
    "gray = cv2.cvtColor(image, cv2.COLOR_BGR2GRAY)\n",
    "\n",
    "canny_edges = cv2.Canny(gray,30,200)\n",
    "\n",
    "contours, heirachy = cv2.findContours(canny_edges.copy(), cv2.RETR_EXTERNAL, cv2.CHAIN_APPROX_NONE)\n",
    "\n",
    "print(\"Found {} contours\".format(len(contours)))\n",
    "\n",
    "for ctr in contours:\n",
    "    hull = cv2.convexHull(ctr)\n",
    "    cv2.drawContours(image, [hull], 0, (0,255,0), 2)\n",
    "    cv2.imshow(\"Convex Hull\", image)\n",
    "    \n",
    "cv2.waitKey(0)\n",
    "cv2.destroyAllWindows()"
   ]
  },
  {
   "cell_type": "code",
   "execution_count": null,
   "metadata": {},
   "outputs": [],
   "source": []
  }
 ],
 "metadata": {
  "kernelspec": {
   "display_name": "Python 3",
   "language": "python",
   "name": "python3"
  },
  "language_info": {
   "codemirror_mode": {
    "name": "ipython",
    "version": 3
   },
   "file_extension": ".py",
   "mimetype": "text/x-python",
   "name": "python",
   "nbconvert_exporter": "python",
   "pygments_lexer": "ipython3",
   "version": "3.7.4"
  }
 },
 "nbformat": 4,
 "nbformat_minor": 2
}
