{
 "cells": [
  {
   "cell_type": "code",
   "execution_count": 1,
   "metadata": {},
   "outputs": [
    {
     "name": "stdout",
     "output_type": "stream",
     "text": [
      "No of contours detected 120\n"
     ]
    },
    {
     "data": {
      "text/plain": [
       "13"
      ]
     },
     "execution_count": 1,
     "metadata": {},
     "output_type": "execute_result"
    }
   ],
   "source": [
    "#open image\n",
    "import cv2\n",
    "import numpy as np\n",
    "import time\n",
    "\n",
    "\n",
    "image = cv2.imread(\"mat__shapes__web.png\")\n",
    "cv2.imshow(\"Image of random shapes\", image)\n",
    "cv2.waitKey(0)\n",
    "\n",
    "black_image = np.zeros((image.shape[0], image.shape[1], 3))\n",
    "\n",
    "orignal_image = image.copy()\n",
    "\n",
    "gray = cv2.cvtColor(image, cv2.COLOR_BGR2GRAY)\n",
    "\n",
    "canny_image = cv2.Canny(gray, 50,200)\n",
    "cv2.imshow(\"Image with edges detected\", canny_image)\n",
    "cv2.waitKey(0)\n",
    "\n",
    "contours, heirachy = cv2.findContours(canny_image, cv2.RETR_EXTERNAL, cv2.CHAIN_APPROX_NONE)\n",
    "print(\"No of contours detected {}\".format(len(contours)))\n",
    "\n",
    "cv2.imshow(\"Black Image with contours drawn\", cv2.drawContours(black_image, contours,  -1, (0, 255,0), 3))\n",
    "cv2.waitKey(0)\n",
    "      \n",
    "\n",
    "cv2.imshow(\"Image with contours drawn\", cv2.drawContours(orignal_image, contours, -1, (0, 255,0), 3))\n",
    "cv2.waitKey(0)\n"
   ]
  },
  {
   "cell_type": "code",
   "execution_count": null,
   "metadata": {},
   "outputs": [],
   "source": [
    "Sorting the contours"
   ]
  },
  {
   "cell_type": "code",
   "execution_count": 1,
   "metadata": {},
   "outputs": [
    {
     "ename": "NameError",
     "evalue": "name 'contours' is not defined",
     "output_type": "error",
     "traceback": [
      "\u001b[0;31m---------------------------------------------------------------------------\u001b[0m",
      "\u001b[0;31mNameError\u001b[0m                                 Traceback (most recent call last)",
      "\u001b[0;32m<ipython-input-1-08d82b36616b>\u001b[0m in \u001b[0;36m<module>\u001b[0;34m\u001b[0m\n\u001b[1;32m      6\u001b[0m     \u001b[0;32mreturn\u001b[0m \u001b[0mall_areas\u001b[0m\u001b[0;34m\u001b[0m\u001b[0;34m\u001b[0m\u001b[0m\n\u001b[1;32m      7\u001b[0m \u001b[0;34m\u001b[0m\u001b[0m\n\u001b[0;32m----> 8\u001b[0;31m \u001b[0msorted_contours\u001b[0m \u001b[0;34m=\u001b[0m \u001b[0msorted\u001b[0m\u001b[0;34m(\u001b[0m\u001b[0mcontours\u001b[0m\u001b[0;34m,\u001b[0m \u001b[0mkey\u001b[0m\u001b[0;34m=\u001b[0m\u001b[0mcv2\u001b[0m\u001b[0;34m.\u001b[0m\u001b[0mcontourArea\u001b[0m\u001b[0;34m,\u001b[0m \u001b[0mreverse\u001b[0m\u001b[0;34m=\u001b[0m\u001b[0;32mTrue\u001b[0m\u001b[0;34m)\u001b[0m\u001b[0;34m\u001b[0m\u001b[0;34m\u001b[0m\u001b[0m\n\u001b[0m\u001b[1;32m      9\u001b[0m \u001b[0;34m\u001b[0m\u001b[0m\n\u001b[1;32m     10\u001b[0m \u001b[0mimage_copy\u001b[0m \u001b[0;34m=\u001b[0m \u001b[0mcv2\u001b[0m\u001b[0;34m.\u001b[0m\u001b[0mimread\u001b[0m\u001b[0;34m(\u001b[0m\u001b[0;34m\"mat__shapes__web.png\"\u001b[0m\u001b[0;34m)\u001b[0m\u001b[0;34m\u001b[0m\u001b[0;34m\u001b[0m\u001b[0m\n",
      "\u001b[0;31mNameError\u001b[0m: name 'contours' is not defined"
     ]
    }
   ],
   "source": [
    "def get_contour_areas(contours):\n",
    "    all_areas = []\n",
    "    for cnt in contours:\n",
    "        area = cv2.contourArea(cnt)\n",
    "        all_areas.append(area)\n",
    "    return all_areas\n",
    "\n",
    "sorted_contours = sorted(contours, key=cv2.contourArea, reverse=True)\n",
    "\n",
    "image_copy = cv2.imread(\"mat__shapes__web.png\")\n",
    "\n",
    "print(\"LENGTH of Sorted {}\".format(len(sorted_contours)))\n",
    "\n",
    "for cntor in sorted_contours:\n",
    "    cv2.drawContours(image_copy, [cntor],  -1, (0, 255,0), 3)\n",
    "    cv2.imshow(\"Contours drawn from largest to smallest\", image_copy)\n",
    "    cv2.waitKey(0)\n",
    "\n",
    "cv2.waitKey(0)\n",
    "cv2.destroyAllWindows()   \n",
    "for i in range (1,10):\n",
    "    cv2.waitKey(1)"
   ]
  },
  {
   "cell_type": "code",
   "execution_count": null,
   "metadata": {},
   "outputs": [],
   "source": [
    "Labelling contours"
   ]
  },
  {
   "cell_type": "code",
   "execution_count": null,
   "metadata": {},
   "outputs": [],
   "source": [
    "import cv2\n",
    "import numpy as np\n",
    "\n",
    "\n",
    "def contour_x_cord(contours):\n",
    "    if(cv2.contourArea(contours)) > 10:\n",
    "        M = cv2.moments(contours)\n",
    "        return (int(M['m10']/M['m00']))\n",
    "    \n",
    "\n",
    "def draw_circle_center_of_contour(image, contour, position):\n",
    "    M = cv2.moments(contour)\n",
    "    if(int(M['m00'])) > 0 and (int(M['m10'])) > 0: #check for invalid (too small) contours in the image\n",
    "        cx = (int(M['m10']/M['m00']))\n",
    "        cy = (int(M['m01']/M['m00']))\n",
    "\n",
    "        cv2.circle(image, (cx,cy), 10, (0,255,255), -1)\n",
    "        return image\n",
    "    else:\n",
    "        return image\n",
    "\n",
    "\n",
    "image_ = cv2.imread(\"mat__shapes__web.png\")\n",
    "\n",
    "for(position, contour) in enumerate(contours):\n",
    "    orig = draw_circle_center_of_contour(image_, contour, position)\n",
    "    \n",
    "\n",
    "cv2.imshow(\"Image with contours and positions drawn\", image_)\n",
    "cv2.waitKey(0)\n",
    "\n",
    "\n",
    "new_copy_image = image_.copy()\n",
    "\n",
    "#Labelling contours\n",
    "for (position, contour) in enumerate(contours):\n",
    "    cv2.drawContours(new_copy_image, contours, -1, (0,255,0), 3)\n",
    "    M = cv2.moments(contour)\n",
    "    if(int(M['m00'])) > 0 and (int(M['m10'])) > 0:\n",
    "        cx = (int(M['m10']/M['m00']))\n",
    "        cy = (int(M['m01']/M['m00']))\n",
    "        cv2.putText(new_copy_image, str(position+1), (cx, cy), cv2.FONT_HERSHEY_SIMPLEX, 1, (0,0,255), 2)\n",
    "        cv2.imshow(\"Image with lables\",new_copy_image)\n",
    "        cv2.waitKey(0)\n",
    "        \n",
    "        #cropping contours\n",
    "        (x,y,w,h) = cv2.boundingRect(contour)\n",
    "        cropped_image = new_copy_image[y:y+h,x:x+w] #crop from y to y+hieght, do same for x with width\n",
    "        image_name = \"cropped_contour_{}.jpg\".format(position)\n",
    "        cv2.imwrite(image_name, cropped_image)\n",
    "        \n",
    "cv2.destroyAllWindows()"
   ]
  }
 ],
 "metadata": {
  "kernelspec": {
   "display_name": "Python 3",
   "language": "python",
   "name": "python3"
  },
  "language_info": {
   "codemirror_mode": {
    "name": "ipython",
    "version": 3
   },
   "file_extension": ".py",
   "mimetype": "text/x-python",
   "name": "python",
   "nbconvert_exporter": "python",
   "pygments_lexer": "ipython3",
   "version": "3.7.4"
  }
 },
 "nbformat": 4,
 "nbformat_minor": 2
}
