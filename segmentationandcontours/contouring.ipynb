{
 "cells": [
  {
   "cell_type": "code",
   "execution_count": 1,
   "metadata": {},
   "outputs": [
    {
     "name": "stdout",
     "output_type": "stream",
     "text": [
      "number of contours found 20\n"
     ]
    }
   ],
   "source": [
    "import cv2\n",
    "import numpy as np\n",
    "\n",
    "image = cv2.imread(\"square_white_bg.jpg\")\n",
    "resized_image = cv2.resize(image, None,fx=0.3,fy=0.3)\n",
    "cv2.imshow(\"Input image\",resized_image)\n",
    "cv2.waitKey(0)\n",
    "\n",
    "#make gray image\n",
    "grayscale = cv2.cvtColor(resized_image, cv2.COLOR_BGR2GRAY)\n",
    "\n",
    "#find canny edges\n",
    "canny_edges = cv2.Canny(grayscale,30,200)\n",
    "cv2.imshow(\"Gray Image\",grayscale)\n",
    "cv2.waitKey(0)\n",
    "\n",
    "#find contours\n",
    "contours, heirachy = cv2.findContours(canny_edges, cv2.RETR_EXTERNAL, cv2.CHAIN_APPROX_NONE)\n",
    "cv2.imshow(\"Canny Edges After Contouring\",canny_edges)\n",
    "cv2.waitKey(0)\n",
    "\n",
    "\n",
    "print(\"number of contours found {}\".format(len(contours)))\n",
    "\n",
    "cv2.drawContours(resized_image, contours, -1, (0, 0, 255), 3)\n",
    "cv2.imshow(\"Contours\",resized_image)\n",
    "cv2.waitKey(0)\n",
    "cv2.destroyAllWindows()\n",
    "\n"
   ]
  },
  {
   "cell_type": "code",
   "execution_count": null,
   "metadata": {},
   "outputs": [],
   "source": []
  }
 ],
 "metadata": {
  "kernelspec": {
   "display_name": "Python 3",
   "language": "python",
   "name": "python3"
  },
  "language_info": {
   "codemirror_mode": {
    "name": "ipython",
    "version": 3
   },
   "file_extension": ".py",
   "mimetype": "text/x-python",
   "name": "python",
   "nbconvert_exporter": "python",
   "pygments_lexer": "ipython3",
   "version": "3.7.4"
  }
 },
 "nbformat": 4,
 "nbformat_minor": 2
}
