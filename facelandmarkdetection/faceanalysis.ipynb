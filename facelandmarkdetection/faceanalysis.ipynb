{
 "cells": [
  {
   "cell_type": "code",
   "execution_count": null,
   "metadata": {},
   "outputs": [
    {
     "name": "stdout",
     "output_type": "stream",
     "text": [
      "[[169 211]]\n"
     ]
    }
   ],
   "source": [
    "#To run\n",
    "#download model from: http://dlib.net/files/shape_predictor_68_face_landmarks.dat.b2z\n",
    "#install cmake: https://www.youtube.com/watch?time_continue=78&v=sK4sVg4SRsg&feature=emb_title\n",
    "#install dlib from: https://sourceforge.net/projects/dclib/\n",
    "\n",
    "import cv2\n",
    "import numpy as np\n",
    "import dlib\n",
    "\n",
    "\n",
    "PREDICTOR_PATH = \"shape_predictor_68_face_landmarks.dat\"\n",
    "predictor = dlib.shape_predictor(PREDICTOR_PATH)\n",
    "detector = dlib.get_frontal_face_detector()\n",
    "\n",
    "class TooManyFacesException(Exception):\n",
    "    pass\n",
    "\n",
    "class NoFacesException(Exception):\n",
    "    pass\n",
    "\n",
    "\n",
    "def get_landmarks(im):\n",
    "    rects = detector(im, 1)\n",
    "    \n",
    "    if len(rects) > 1:\n",
    "        raise TooManyFacesException\n",
    "    if len(rects) == 0:\n",
    "        raise NoFacesException\n",
    "        \n",
    "    return np.matrix([[p.x, p.y] for p in predictor(im, rects[0]).parts()])\n",
    "\n",
    "\n",
    "def annotate_landmarks(im, landmarks):\n",
    "    im = im.copy()\n",
    "    for idx, point in enumerate(landmarks):\n",
    "        pos = (point[0,0], point[0,1])\n",
    "        cv2.putText(im, str(idx), pos, fontFace = cv2.FONT_HERSHEY_SCRIPT_SIMPLEX, fontScale = 0.4, color = (0,0,255))\n",
    "        cv2.circle(im, pos, 3, color = (0, 255, 255))\n",
    "        \n",
    "    return im\n",
    "\n",
    "\n",
    "\n",
    "image = cv2.imread(\"ALIU_ABDULMUJEEB_OLOLADE.jpg\")\n",
    "landmarks = get_landmarks(image)\n",
    "image_with_landmarks = annotate_landmarks(image, landmarks)\n",
    "\n",
    "print(landmarks[0])\n",
    "\n",
    "cv2.imshow(\"Result Image\", image_with_landmarks)\n",
    "cv2.waitKey(0)\n",
    "cv2.destroyAllWindows()"
   ]
  },
  {
   "cell_type": "code",
   "execution_count": null,
   "metadata": {},
   "outputs": [],
   "source": []
  },
  {
   "cell_type": "code",
   "execution_count": null,
   "metadata": {},
   "outputs": [],
   "source": []
  }
 ],
 "metadata": {
  "kernelspec": {
   "display_name": "Python 3",
   "language": "python",
   "name": "python3"
  },
  "language_info": {
   "codemirror_mode": {
    "name": "ipython",
    "version": 3
   },
   "file_extension": ".py",
   "mimetype": "text/x-python",
   "name": "python",
   "nbconvert_exporter": "python",
   "pygments_lexer": "ipython3",
   "version": "3.7.4"
  }
 },
 "nbformat": 4,
 "nbformat_minor": 2
}
