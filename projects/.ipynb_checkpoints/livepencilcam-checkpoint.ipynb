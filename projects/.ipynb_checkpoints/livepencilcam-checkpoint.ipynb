{
 "cells": [
  {
   "cell_type": "code",
   "execution_count": null,
   "metadata": {},
   "outputs": [],
   "source": [
    "import cv2\n",
    "import numpy as np\n",
    "\n",
    "\n",
    "def sketch(image):\n",
    "    image_gray = cv2.cvtColor(image, cv2.COLOR_BGR2GRAY)\n",
    "    \n",
    "    image_gray_blur = cv2.GaussianBlur(image_gray, (3,3), 0)\n",
    "    \n",
    "    canny_edges = cv2.Canny(image_gray_blur, 10,70)\n",
    "    \n",
    "    ret , mask = cv2.threshold(canny_edges, 70, 155, cv2.THRESH_BINARY_INV)\n",
    "    return mask\n",
    "\n",
    "\n",
    "def brighten(image):\n",
    "    brightener = np.ones(image.shape, np.uint8) * 10\n",
    "    brigher_image = np.add(image, brightener)\n",
    "    cv2.imshow(\"Brightened Image\", brigher_image)\n",
    "    return brigher_image\n",
    "\n",
    "\n",
    "cap = cv2.VideoCapture(0)\n",
    "\n",
    "while True:\n",
    "    ret, frame = cap.read()\n",
    "    cv2.imshow(\"Live Sketch\", sketch(frame))\n",
    "    if cv2.waitKey(1) == 13:\n",
    "        break;\n",
    "        \n",
    "\n",
    "cv2.release()\n",
    "cv2.destroyAllWindows()"
   ]
  },
  {
   "cell_type": "code",
   "execution_count": null,
   "metadata": {},
   "outputs": [],
   "source": []
  }
 ],
 "metadata": {
  "kernelspec": {
   "display_name": "Python 3",
   "language": "python",
   "name": "python3"
  },
  "language_info": {
   "codemirror_mode": {
    "name": "ipython",
    "version": 3
   },
   "file_extension": ".py",
   "mimetype": "text/x-python",
   "name": "python",
   "nbconvert_exporter": "python",
   "pygments_lexer": "ipython3",
   "version": "3.7.4"
  }
 },
 "nbformat": 4,
 "nbformat_minor": 2
}
