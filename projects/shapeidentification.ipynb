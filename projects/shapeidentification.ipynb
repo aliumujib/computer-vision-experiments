{
 "cells": [
  {
   "cell_type": "code",
   "execution_count": 1,
   "metadata": {},
   "outputs": [
    {
     "ename": "KeyError",
     "evalue": "2",
     "output_type": "error",
     "traceback": [
      "\u001b[0;31m---------------------------------------------------------------------------\u001b[0m",
      "\u001b[0;31mKeyError\u001b[0m                                  Traceback (most recent call last)",
      "\u001b[0;32m<ipython-input-1-2ca400d7daaf>\u001b[0m in \u001b[0;36m<module>\u001b[0;34m\u001b[0m\n\u001b[1;32m     59\u001b[0m         \u001b[0mprint\u001b[0m\u001b[0;34m(\u001b[0m\u001b[0;34m\"You have found a {}\"\u001b[0m\u001b[0;34m.\u001b[0m\u001b[0mformat\u001b[0m\u001b[0;34m(\u001b[0m\u001b[0mshape_name\u001b[0m\u001b[0;34m)\u001b[0m\u001b[0;34m)\u001b[0m\u001b[0;34m\u001b[0m\u001b[0;34m\u001b[0m\u001b[0m\n\u001b[1;32m     60\u001b[0m     \u001b[0;32melse\u001b[0m\u001b[0;34m:\u001b[0m\u001b[0;34m\u001b[0m\u001b[0;34m\u001b[0m\u001b[0m\n\u001b[0;32m---> 61\u001b[0;31m         \u001b[0mshape_name\u001b[0m \u001b[0;34m=\u001b[0m \u001b[0mshapes_names_map\u001b[0m\u001b[0;34m[\u001b[0m\u001b[0mlen\u001b[0m\u001b[0;34m(\u001b[0m\u001b[0mapprox\u001b[0m\u001b[0;34m)\u001b[0m\u001b[0;34m]\u001b[0m\u001b[0;34m\u001b[0m\u001b[0;34m\u001b[0m\u001b[0m\n\u001b[0m\u001b[1;32m     62\u001b[0m         \u001b[0mcv2\u001b[0m\u001b[0;34m.\u001b[0m\u001b[0mdrawContours\u001b[0m\u001b[0;34m(\u001b[0m\u001b[0mimage_copy\u001b[0m\u001b[0;34m,\u001b[0m \u001b[0;34m[\u001b[0m\u001b[0mctr\u001b[0m\u001b[0;34m]\u001b[0m\u001b[0;34m,\u001b[0m \u001b[0;36m0\u001b[0m\u001b[0;34m,\u001b[0m \u001b[0;34m(\u001b[0m\u001b[0;36m0\u001b[0m\u001b[0;34m,\u001b[0m\u001b[0;36m255\u001b[0m\u001b[0;34m,\u001b[0m\u001b[0;36m0\u001b[0m\u001b[0;34m)\u001b[0m\u001b[0;34m,\u001b[0m \u001b[0;34m-\u001b[0m\u001b[0;36m1\u001b[0m\u001b[0;34m)\u001b[0m\u001b[0;34m\u001b[0m\u001b[0;34m\u001b[0m\u001b[0m\n\u001b[1;32m     63\u001b[0m         \u001b[0mcv2\u001b[0m\u001b[0;34m.\u001b[0m\u001b[0mputText\u001b[0m\u001b[0;34m(\u001b[0m\u001b[0mimage_copy\u001b[0m\u001b[0;34m,\u001b[0m\u001b[0mshape_name\u001b[0m\u001b[0;34m,\u001b[0m\u001b[0;34m(\u001b[0m\u001b[0mcx\u001b[0m\u001b[0;34m-\u001b[0m\u001b[0;36m50\u001b[0m\u001b[0;34m,\u001b[0m \u001b[0mcy\u001b[0m\u001b[0;34m)\u001b[0m\u001b[0;34m,\u001b[0m \u001b[0mcv2\u001b[0m\u001b[0;34m.\u001b[0m\u001b[0mFONT_HERSHEY_SIMPLEX\u001b[0m\u001b[0;34m,\u001b[0m \u001b[0;36m1\u001b[0m\u001b[0;34m,\u001b[0m \u001b[0;34m(\u001b[0m\u001b[0;36m0\u001b[0m\u001b[0;34m,\u001b[0m\u001b[0;36m0\u001b[0m\u001b[0;34m,\u001b[0m\u001b[0;36m255\u001b[0m\u001b[0;34m)\u001b[0m\u001b[0;34m,\u001b[0m \u001b[0;36m1\u001b[0m\u001b[0;34m)\u001b[0m\u001b[0;34m\u001b[0m\u001b[0;34m\u001b[0m\u001b[0m\n",
      "\u001b[0;31mKeyError\u001b[0m: 2"
     ]
    }
   ],
   "source": [
    "import cv2\n",
    "import numpy as np\n",
    "\n",
    "\n",
    "image = cv2.imread(\"shapes.jpg\")\n",
    "cv2.imshow(\"Original image\", image)\n",
    "cv2.waitKey(0)\n",
    "\n",
    "image_copy = image.copy()\n",
    "\n",
    "gray_image = cv2.cvtColor(image, cv2.COLOR_BGR2GRAY)\n",
    "edges = cv2.Canny(gray_image, 50, 200)\n",
    "\n",
    "contours, heirachy = cv2.findContours(edges, cv2.RETR_EXTERNAL, cv2.CHAIN_APPROX_NONE)\n",
    "cv2.drawContours(image, contours, 0, (0,255,0), -1)\n",
    "cv2.imshow(\"Image with contours\", image)\n",
    "cv2.waitKey(0)\n",
    "\n",
    "shapes_names_map = {2:\"Triangle\",3:\"Triangle\", 5:\"Pentagon\", 6:\"Hexagon\", 7:\"Pentagon\", 8:\"Octagon\", 9:\"Enneagon\",10:\"Decagon\"}\n",
    "\n",
    "valid_ctrs = []\n",
    "\n",
    "for ctr in contours:\n",
    "    approx = cv2.approxPolyDP(ctr, 0.01 * cv2.arcLength(ctr, True), True)\n",
    "    M = cv2.moments(ctr)\n",
    "    if(int(M['m01'])) > 0 and (int(M['m10'])) > 0 and (int(M['m00'])) > 0:\n",
    "        valid_ctrs.append(ctr)\n",
    "    \n",
    "\n",
    "for ctr in valid_ctrs:\n",
    "    \n",
    "    approx = cv2.approxPolyDP(ctr, 0.01 * cv2.arcLength(ctr, True), True)\n",
    "    M = cv2.moments(ctr)\n",
    "    cx = int(M[\"m10\"]/M[\"m00\"])\n",
    "    cy = int(M[\"m01\"]/M[\"m00\"])\n",
    "    \n",
    "    if len(approx) == 4:\n",
    "        x,y,w,h = cv2.boundingRect(ctr)\n",
    "        \n",
    "        if abs(w-h) >= 3:\n",
    "            shape_name = \"Rectangle\"\n",
    "            cv2.drawContours(image_copy, [ctr], 0, (0,255,0), -1)\n",
    "            cv2.putText(image_copy,shape_name,(cx-50, cy), cv2.FONT_HERSHEY_SIMPLEX, 1, (0,0,255), 1)\n",
    "            print(\"You have found a {}\".format(shape_name))\n",
    "        else:\n",
    "            shape_name = \"Rectangle\"\n",
    "            cv2.drawContours(image_copy, [ctr], 0, (0,255,0), -1)\n",
    "            cv2.putText(image_copy,shape_name,(cx-50, cy), cv2.FONT_HERSHEY_SIMPLEX, 1, (0,0,255), 1)\n",
    "            print(\"You have found a {}\".format(shape_name))\n",
    "    elif len(approx) >= 11 and len(approx) < 15:\n",
    "        shape_name = \"Unkwnown\"\n",
    "        cv2.drawContours(image_copy, [ctr], 0, (0,255,0), -1)\n",
    "        cv2.putText(image_copy,shape_name,(cx-50, cy), cv2.FONT_HERSHEY_SIMPLEX, 1, (0,0,255), 1)\n",
    "        print(\"You have found a {}\".format(shape_name)) \n",
    "    elif len(approx) >= 15:\n",
    "        shape_name = \"Circle\"\n",
    "        cv2.drawContours(image_copy, [ctr], 0, (0,255,0), -1)\n",
    "        cv2.putText(image_copy,shape_name,(cx-50, cy), cv2.FONT_HERSHEY_SIMPLEX, 1, (0,0,255), 1)\n",
    "        print(\"You have found a {}\".format(shape_name))    \n",
    "    else:\n",
    "        shape_name = shapes_names_map[len(approx)]\n",
    "        cv2.drawContours(image_copy, [ctr], 0, (0,255,0), -1)\n",
    "        cv2.putText(image_copy,shape_name,(cx-50, cy), cv2.FONT_HERSHEY_SIMPLEX, 1, (0,0,255), 1)\n",
    "        print(\"You have found a {}\".format(shape_name))\n",
    "\n",
    "    cv2.imshow(\"Image with shapes\", image_copy)\n",
    "    cv2.waitKey(0)\n",
    "\n",
    "cv2.waitKey(0)\n",
    "cv2.destroyAllWindows()"
   ]
  },
  {
   "cell_type": "code",
   "execution_count": null,
   "metadata": {},
   "outputs": [],
   "source": []
  }
 ],
 "metadata": {
  "kernelspec": {
   "display_name": "Python 3",
   "language": "python",
   "name": "python3"
  },
  "language_info": {
   "codemirror_mode": {
    "name": "ipython",
    "version": 3
   },
   "file_extension": ".py",
   "mimetype": "text/x-python",
   "name": "python",
   "nbconvert_exporter": "python",
   "pygments_lexer": "ipython3",
   "version": "3.7.4"
  }
 },
 "nbformat": 4,
 "nbformat_minor": 2
}
